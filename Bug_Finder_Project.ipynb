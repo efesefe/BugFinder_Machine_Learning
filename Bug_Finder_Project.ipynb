{
  "nbformat": 4,
  "nbformat_minor": 0,
  "metadata": {
    "colab": {
      "name": "montaigne.ipynb",
      "provenance": [],
      "collapsed_sections": [],
      "authorship_tag": "ABX9TyOrilEuD3EKMFsWZg89fFAb",
      "include_colab_link": true
    },
    "kernelspec": {
      "name": "python3",
      "display_name": "Python 3"
    },
    "language_info": {
      "name": "python"
    }
  },
  "cells": [
    {
      "cell_type": "markdown",
      "metadata": {
        "id": "view-in-github",
        "colab_type": "text"
      },
      "source": [
        "<a href=\"https://colab.research.google.com/github/efesefe/BugFinder_Machine_Learning/blob/main/Bug_Finder_Project.ipynb\" target=\"_parent\"><img src=\"https://colab.research.google.com/assets/colab-badge.svg\" alt=\"Open In Colab\"/></a>"
      ]
    },
    {
      "cell_type": "code",
      "execution_count": 426,
      "metadata": {
        "id": "70eL5b1iq1m9"
      },
      "outputs": [],
      "source": [
        "import numpy as np\n",
        "import matplotlib.pyplot as plt\n",
        "import pandas as pd\n",
        "import seaborn as sns\n",
        "import glob\n",
        "import os\n",
        "from sklearn.model_selection import cross_val_score"
      ]
    },
    {
      "cell_type": "code",
      "source": [
        "allData = pd.concat(map(pd.read_csv, glob.glob(os.path.join('', \"*.csv\"))))\n",
        "allData.drop('name.1', axis=1, inplace=True)\n",
        "allData.drop('version', axis=1, inplace=True)"
      ],
      "metadata": {
        "id": "LR2ehYgpmXcJ"
      },
      "execution_count": 427,
      "outputs": []
    },
    {
      "cell_type": "code",
      "source": [
        "X = allData.iloc[:, :-1].values\n",
        "y = allData.iloc[:, -1].values\n",
        "from sklearn.compose import ColumnTransformer\n",
        "from sklearn.preprocessing import OneHotEncoder\n",
        "ct = ColumnTransformer(transformers=[('encoder', OneHotEncoder(), [0])], remainder='passthrough')\n",
        "X = pd.DataFrame(ct.fit_transform(X))\n",
        "from sklearn.preprocessing import StandardScaler\n",
        "scaler = StandardScaler()\n",
        "scaler.fit(X)\n",
        "X = pd.DataFrame(scaler.transform(X))"
      ],
      "metadata": {
        "id": "sghiwm1_raMW"
      },
      "execution_count": 428,
      "outputs": []
    },
    {
      "cell_type": "code",
      "source": [
        "from sklearn.neighbors import LocalOutlierFactor\n",
        "clf = LocalOutlierFactor(n_neighbors = 20, contamination = 0.1)\n",
        "clf.fit_predict(X)\n",
        "df_scores = clf.negative_outlier_factor_\n",
        "esik_deger = np.sort(df_scores)[13]\n",
        "aykiri_tf = df_scores > esik_deger\n",
        "baski_deger =  X[df_scores == esik_deger]\n",
        "aykirilar = X[~aykiri_tf]\n",
        "aykirilar.to_records(index = False)\n",
        "res = aykirilar.to_records(index = False)\n",
        "res[:] = baski_deger.to_records(index = False)\n",
        "X[~aykiri_tf] = pd.DataFrame(res, index = X[~aykiri_tf].index)\n",
        "y[y > 0] = 1\n",
        "from sklearn.model_selection import train_test_split\n",
        "X_train, X_test, y_train, y_test = train_test_split(X, y, test_size = 0.2)"
      ],
      "metadata": {
        "id": "ny6g4lGQxESV"
      },
      "execution_count": 429,
      "outputs": []
    },
    {
      "cell_type": "markdown",
      "source": [
        "###İBRAHİM EFE ERER"
      ],
      "metadata": {
        "id": "0hhpyyxpiic5"
      }
    },
    {
      "cell_type": "code",
      "source": [
        "from sklearn.ensemble import RandomForestClassifier\n",
        "rfc = RandomForestClassifier(n_estimators=100)\n",
        "rfc.fit(X_train, y_train)\n",
        "rfc_pred = rfc.predict(X_test)\n",
        "print(accuracy_score(y_test, rfc_pred))\n",
        "print(confusion_matrix(y_test, rfc_pred))\n",
        "print(\"10-Fold Cross validation score\")\n",
        "print(cross_val_score(rfc,X,y,cv=10,scoring='accuracy').mean())"
      ],
      "metadata": {
        "colab": {
          "base_uri": "https://localhost:8080/"
        },
        "id": "T5g3IHhsQ3cB",
        "outputId": "df204349-00b1-44e1-fe05-a18d6c4c3b66"
      },
      "execution_count": 430,
      "outputs": [
        {
          "output_type": "stream",
          "name": "stdout",
          "text": [
            "0.8602383531960996\n",
            "[[545  37]\n",
            " [ 92 249]]\n",
            "10-Fold Cross validation score\n",
            "0.7296588444093868\n"
          ]
        }
      ]
    },
    {
      "cell_type": "code",
      "source": [
        "from sklearn.ensemble import BaggingClassifier\n",
        "from sklearn.svm import SVC\n",
        "clf = BaggingClassifier(base_estimator=SVC(), n_estimators=10, random_state=0).fit(X_train, y_train)\n",
        "bagging_result = clf.predict(X_test)\n",
        "print(accuracy_score(y_test, bagging_result))\n",
        "print(confusion_matrix(y_test, bagging_result))\n",
        "print(\"10-Fold Cross validation score\")\n",
        "print(cross_val_score(clf,X,y,cv=10,scoring='accuracy').mean())"
      ],
      "metadata": {
        "colab": {
          "base_uri": "https://localhost:8080/"
        },
        "id": "fxpI8w6zbSRJ",
        "outputId": "a537229e-e24b-488e-8fce-fbb4e067685a"
      },
      "execution_count": 431,
      "outputs": [
        {
          "output_type": "stream",
          "name": "stdout",
          "text": [
            "0.8266522210184182\n",
            "[[545  37]\n",
            " [123 218]]\n",
            "10-Fold Cross validation score\n",
            "0.6932637499882619\n"
          ]
        }
      ]
    },
    {
      "cell_type": "code",
      "source": [
        "from sklearn.linear_model import LogisticRegression\n",
        "clf_logistic = LogisticRegression(random_state=0).fit(X_train, y_train)\n",
        "logistic_pred = clf_logistic.predict(X_test)\n",
        "\n",
        "print(accuracy_score(y_test, logistic_pred))\n",
        "print(confusion_matrix(y_test, logistic_pred))\n",
        "print(\"10-Fold Cross validation score\")\n",
        "print(cross_val_score(clf_logistic,X,y,cv=10,scoring='accuracy').mean())"
      ],
      "metadata": {
        "colab": {
          "base_uri": "https://localhost:8080/"
        },
        "id": "VYV5Hzz4nrzI",
        "outputId": "0db4183a-d9c8-4d23-d40a-a527be798791"
      },
      "execution_count": 432,
      "outputs": [
        {
          "output_type": "stream",
          "name": "stdout",
          "text": [
            "0.8223185265438786\n",
            "[[515  67]\n",
            " [ 97 244]]\n",
            "10-Fold Cross validation score\n",
            "0.6963184682273619\n"
          ]
        }
      ]
    },
    {
      "cell_type": "markdown",
      "source": [
        "###CAN ATEŞ:"
      ],
      "metadata": {
        "id": "shVKuhpMfT64"
      }
    },
    {
      "cell_type": "code",
      "source": [
        "from sklearn.naive_bayes import GaussianNB\n",
        "\n",
        "bayes = GaussianNB()\n",
        "bayes.fit(X_train , y_train)\n",
        "\n",
        "y_pred = bayes.predict(X_test)\n",
        "\n",
        "print(accuracy_score(y_test,y_pred))\n",
        "\n",
        "print(\"10-Fold Cross validation score\")\n",
        "print(cross_val_score(bayes,X,y,cv=10,scoring='accuracy').mean())"
      ],
      "metadata": {
        "colab": {
          "base_uri": "https://localhost:8080/"
        },
        "id": "qWdilEhAedUy",
        "outputId": "33a59e5f-b93c-423c-9ed4-06c8d668dbad"
      },
      "execution_count": 433,
      "outputs": [
        {
          "output_type": "stream",
          "name": "stdout",
          "text": [
            "0.8179848320693391\n",
            "10-Fold Cross validation score\n",
            "0.6513991792733659\n"
          ]
        }
      ]
    },
    {
      "cell_type": "code",
      "source": [
        "from sklearn.neighbors import KNeighborsClassifier\n",
        "knn = KNeighborsClassifier(n_neighbors=15)\n",
        "knn.fit(X_train, y_train)\n",
        "pred = knn.predict(X_test)\n",
        "print(accuracy_score(y_test, pred))\n",
        "print(confusion_matrix(y_test, pred))\n",
        "print(\"10-Fold Cross validation score\")\n",
        "print(cross_val_score(knn,X,y,cv=10,scoring='accuracy').mean())"
      ],
      "metadata": {
        "colab": {
          "base_uri": "https://localhost:8080/"
        },
        "id": "HpkQ9rOtgtHR",
        "outputId": "74fddc8d-4656-44d8-86b5-2b0101c68a90"
      },
      "execution_count": 434,
      "outputs": [
        {
          "output_type": "stream",
          "name": "stdout",
          "text": [
            "0.8277356446370531\n",
            "[[532  50]\n",
            " [109 232]]\n",
            "10-Fold Cross validation score\n",
            "0.6919580058408692\n"
          ]
        }
      ]
    },
    {
      "cell_type": "markdown",
      "source": [
        "##YAZGI KAVUKÇU"
      ],
      "metadata": {
        "id": "D_y6KQ-qh6eb"
      }
    },
    {
      "cell_type": "code",
      "source": [
        "from sklearn.tree import DecisionTreeClassifier\n",
        "regr = DecisionTreeClassifier()\n",
        "regr.fit(X_train, y_train)\n",
        "result = regr.predict(X_test)\n",
        "from sklearn.metrics import accuracy_score, confusion_matrix\n",
        "print(accuracy_score(y_test, result))\n",
        "print(confusion_matrix(y_test, result))\n",
        "print(\"10-Fold Cross validation score\")\n",
        "print(cross_val_score(regr,X,y,cv=10,scoring='accuracy').mean())"
      ],
      "metadata": {
        "colab": {
          "base_uri": "https://localhost:8080/"
        },
        "id": "1JTLWBVAh_Kw",
        "outputId": "56b8095a-56a2-4f8d-fb6b-b02bce50da63"
      },
      "execution_count": 435,
      "outputs": [
        {
          "output_type": "stream",
          "name": "stdout",
          "text": [
            "0.8071505958829902\n",
            "[[499  83]\n",
            " [ 95 246]]\n",
            "10-Fold Cross validation score\n",
            "0.6900207529274776\n"
          ]
        }
      ]
    },
    {
      "cell_type": "code",
      "source": [
        "from sklearn.svm import SVC\n",
        "\n",
        "svc = SVC()\n",
        "\n",
        "svc.fit(X_train , y_train)\n",
        "\n",
        "y_pred = svc.predict(X_test)\n",
        "\n",
        "print(accuracy_score(y_test,y_pred))\n",
        "\n",
        "print(\"10-Fold Cross validation score\")\n",
        "print(cross_val_score(svc,X,y,cv=10,scoring='accuracy').mean())"
      ],
      "metadata": {
        "colab": {
          "base_uri": "https://localhost:8080/"
        },
        "id": "HYEL4em6iI05",
        "outputId": "96c12ba3-05c9-4845-9663-749a959e9885"
      },
      "execution_count": 436,
      "outputs": [
        {
          "output_type": "stream",
          "name": "stdout",
          "text": [
            "0.8320693391115926\n",
            "10-Fold Cross validation score\n",
            "0.6941318984702933\n"
          ]
        }
      ]
    }
  ]
}